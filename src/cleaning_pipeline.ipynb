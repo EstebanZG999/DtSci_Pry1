{
 "cells": [
  {
   "cell_type": "markdown",
   "id": "ddf76eeb",
   "metadata": {},
   "source": [
    "# Obtención y Limpieza de los datos\n",
    "\n",
    "Proyecto 1 - Data Science\n",
    "\n",
    "Edwin Ortega 22305 - Esteban Zambrano 22119 - Diego García 22404"
   ]
  },
  {
   "cell_type": "markdown",
   "id": "dcd40593",
   "metadata": {},
   "source": [
    "### Configuración e importaciones"
   ]
  },
  {
   "cell_type": "code",
   "execution_count": 12,
   "id": "d19392ed",
   "metadata": {},
   "outputs": [],
   "source": [
    "from pathlib import Path\n",
    "import re\n",
    "import pandas as pd\n",
    "import numpy as np\n",
    "from unidecode import unidecode\n",
    "\n",
    "# Paths\n",
    "DATA_RAW = Path(\"../data/raw_data\")\n",
    "DATA_INTERIM = Path(\"../data/provisional\")\n",
    "DATA_PROCESSED = Path(\"../data/procesada\")\n",
    "DATA_RAW.mkdir(parents=True, exist_ok=True)\n",
    "DATA_INTERIM.mkdir(parents=True, exist_ok=True)\n",
    "DATA_PROCESSED.mkdir(parents=True, exist_ok=True)\n",
    "\n",
    "# Archivos esperados\n",
    "DEPARTAMENTOS = [\n",
    "    \"AltaVerapaz\",\"BajaVerapaz\",\"Chimaltenango\",\"Chiquimula\",\"CiudadCapital\",\n",
    "    \"ElProgreso\",\"Escuintla\",\"Guatemala\",\"Huehuetenango\",\"Izabal\",\"Jalapa\",\n",
    "    \"Jutiapa\",\"Peten\",\"Quetzaltenango\",\"Quiche\",\"Retalhuleu\",\"Sacatepequez\",\n",
    "    \"SanMarcos\",\"SantaRosa\",\"Solola\",\"Suchitepequez\",\"Totonicapan\",\"Zacapa\"\n",
    "]"
   ]
  }
 ],
 "metadata": {
  "kernelspec": {
   "display_name": "Python 3",
   "language": "python",
   "name": "python3"
  },
  "language_info": {
   "codemirror_mode": {
    "name": "ipython",
    "version": 3
   },
   "file_extension": ".py",
   "mimetype": "text/x-python",
   "name": "python",
   "nbconvert_exporter": "python",
   "pygments_lexer": "ipython3",
   "version": "3.12.5"
  }
 },
 "nbformat": 4,
 "nbformat_minor": 5
}
